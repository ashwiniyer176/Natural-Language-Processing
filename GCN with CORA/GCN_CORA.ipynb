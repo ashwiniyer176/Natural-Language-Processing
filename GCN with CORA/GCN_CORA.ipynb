{
 "cells": [
  {
   "cell_type": "code",
   "execution_count": 1,
   "id": "b85d26b3",
   "metadata": {},
   "outputs": [],
   "source": [
    "import torch\n",
    "from torch_geometric.data import Data"
   ]
  },
  {
   "cell_type": "code",
   "execution_count": 2,
   "id": "33b11c36",
   "metadata": {},
   "outputs": [],
   "source": [
    "from torch_geometric.datasets import Planetoid"
   ]
  },
  {
   "cell_type": "code",
   "execution_count": 3,
   "id": "5e603e7f",
   "metadata": {},
   "outputs": [],
   "source": [
    "dataset=Planetoid(root=\"E:/Datasets/\",name=\"CORA\")"
   ]
  },
  {
   "cell_type": "code",
   "execution_count": 4,
   "id": "361b5ebf",
   "metadata": {},
   "outputs": [
    {
     "name": "stdout",
     "output_type": "stream",
     "text": [
      "Dataset: CORA():\n",
      "======================\n",
      "Number of graphs: 1\n",
      "Number of features: 1433\n",
      "Number of classes: 7\n"
     ]
    }
   ],
   "source": [
    "print(f'Dataset: {dataset}:')\n",
    "print('======================')\n",
    "print(f'Number of graphs: {len(dataset)}')\n",
    "print(f'Number of features: {dataset.num_features}')\n",
    "print(f'Number of classes: {dataset.num_classes}')"
   ]
  },
  {
   "cell_type": "code",
   "execution_count": 5,
   "id": "f20078b6",
   "metadata": {},
   "outputs": [],
   "source": [
    "data=dataset[0]"
   ]
  },
  {
   "cell_type": "code",
   "execution_count": 6,
   "id": "ffb088e5",
   "metadata": {},
   "outputs": [
    {
     "data": {
      "text/plain": [
       "CORA()"
      ]
     },
     "execution_count": 6,
     "metadata": {},
     "output_type": "execute_result"
    }
   ],
   "source": [
    "dataset"
   ]
  },
  {
   "cell_type": "code",
   "execution_count": 7,
   "id": "3f5212e8",
   "metadata": {},
   "outputs": [
    {
     "name": "stdout",
     "output_type": "stream",
     "text": [
      "Number of nodes: 2708\n",
      "Number of edges: 10556\n",
      "Average node degree: 3.90\n",
      "Number of training nodes: 140\n",
      "Training node label rate: 0.05\n",
      "Contains isolated nodes: False\n",
      "Contains self-loops: False\n",
      "Is undirected: True\n"
     ]
    }
   ],
   "source": [
    "print(f'Number of nodes: {data.num_nodes}')\n",
    "print(f'Number of edges: {data.num_edges}')\n",
    "print(f'Average node degree: {data.num_edges / data.num_nodes:.2f}')\n",
    "print(f'Number of training nodes: {data.train_mask.sum()}')\n",
    "print(f'Training node label rate: {int(data.train_mask.sum()) / data.num_nodes:.2f}')\n",
    "print(f'Contains isolated nodes: {data.contains_isolated_nodes()}')\n",
    "print(f'Contains self-loops: {data.contains_self_loops()}')\n",
    "print(f'Is undirected: {data.is_undirected()}')"
   ]
  },
  {
   "cell_type": "code",
   "execution_count": 8,
   "id": "f2e5afee",
   "metadata": {},
   "outputs": [],
   "source": [
    "from torch_geometric.utils import to_networkx\n",
    "G = to_networkx(data, to_undirected=True)"
   ]
  },
  {
   "cell_type": "code",
   "execution_count": 9,
   "id": "d55a8dc7",
   "metadata": {},
   "outputs": [],
   "source": [
    "import networkx as nx\n",
    "import matplotlib.pyplot as plt\n",
    "\n",
    "\n",
    "def visualize(h, color, epoch=None, loss=None):\n",
    "    plt.figure(figsize=(7,7))\n",
    "    plt.xticks([])\n",
    "    plt.yticks([])\n",
    "\n",
    "    if torch.is_tensor(h):\n",
    "        h = h.detach().cpu().numpy()\n",
    "        plt.scatter(h[:, 0], h[:, 1], s=140, c=color, cmap=\"Set2\")\n",
    "        if epoch is not None and loss is not None:\n",
    "            plt.xlabel(f'Epoch: {epoch}, Loss: {loss.item():.4f}', fontsize=16)\n",
    "    else:\n",
    "        nx.draw_networkx(G, pos=nx.spring_layout(G, seed=42), with_labels=False,\n",
    "                         node_color=color, cmap=\"Set2\")\n",
    "    plt.show()"
   ]
  },
  {
   "cell_type": "code",
   "execution_count": 10,
   "id": "17d9ddab",
   "metadata": {},
   "outputs": [],
   "source": [
    "import torch.nn.functional as F\n",
    "from torch_geometric.nn import GCNConv"
   ]
  },
  {
   "cell_type": "code",
   "execution_count": 11,
   "id": "0870b286",
   "metadata": {},
   "outputs": [],
   "source": [
    "class Net(torch.nn.Module):\n",
    "    def __init__(self):\n",
    "        super().__init__()\n",
    "        self.conv1=GCNConv(dataset.num_node_features,24)\n",
    "        self.conv3=GCNConv(24,dataset.num_classes)\n",
    "        self.device=torch.device('cuda' if torch.cuda.is_available() else cpu)\n",
    "        \n",
    "    def forward(self, data):\n",
    "        x, edge_index=data.x,data.edge_index\n",
    "        x=F.relu(self.conv1(x,edge_index))\n",
    "        x=F.dropout(x,training=self.training)\n",
    "        x=F.log_softmax(self.conv3(x,edge_index),dim=1)\n",
    "        return x\n"
   ]
  },
  {
   "cell_type": "code",
   "execution_count": 12,
   "id": "e5d571e4",
   "metadata": {},
   "outputs": [],
   "source": [
    "model=Net()"
   ]
  },
  {
   "cell_type": "code",
   "execution_count": 13,
   "id": "71d624d4",
   "metadata": {},
   "outputs": [],
   "source": [
    "def trainAndTest():\n",
    "    metrics={\n",
    "        \"losses\":[],\n",
    "        \"Accuracy\":[]\n",
    "    }\n",
    "    device=torch.device('cuda' if torch.cuda.is_available() else 'cpu')\n",
    "    model=Net().to(device)\n",
    "    data=dataset[0].to(device)\n",
    "    optimizer=torch.optim.Adam(model.parameters(),lr=0.01,weight_decay=5e-4)\n",
    "    model.train()\n",
    "    for epoch in range(100):\n",
    "        optimizer.zero_grad()\n",
    "        out=model(data)\n",
    "        loss=F.nll_loss(out[data.train_mask], data.y[data.train_mask])\n",
    "        print(loss)\n",
    "        metrics['losses'].append(loss.item())\n",
    "        loss.backward()\n",
    "        optimizer.step()\n",
    "    model.eval()\n",
    "    _, pred = model(data).max(dim=1)\n",
    "    correct = int(pred[data.test_mask].eq(data.y[data.test_mask]).sum().item())\n",
    "    acc = correct / int(data.test_mask.sum())\n",
    "    print('Accuracy: {:.4f}'.format(acc))\n",
    "    return metrics"
   ]
  },
  {
   "cell_type": "code",
   "execution_count": 14,
   "id": "643409ff",
   "metadata": {},
   "outputs": [
    {
     "name": "stdout",
     "output_type": "stream",
     "text": [
      "tensor(1.9575, device='cuda:0', grad_fn=<NllLossBackward>)\n",
      "tensor(1.8237, device='cuda:0', grad_fn=<NllLossBackward>)\n",
      "tensor(1.6914, device='cuda:0', grad_fn=<NllLossBackward>)\n",
      "tensor(1.5456, device='cuda:0', grad_fn=<NllLossBackward>)\n",
      "tensor(1.3796, device='cuda:0', grad_fn=<NllLossBackward>)\n",
      "tensor(1.2329, device='cuda:0', grad_fn=<NllLossBackward>)\n",
      "tensor(1.0824, device='cuda:0', grad_fn=<NllLossBackward>)\n",
      "tensor(0.9603, device='cuda:0', grad_fn=<NllLossBackward>)\n",
      "tensor(0.8550, device='cuda:0', grad_fn=<NllLossBackward>)\n",
      "tensor(0.7371, device='cuda:0', grad_fn=<NllLossBackward>)\n",
      "tensor(0.6441, device='cuda:0', grad_fn=<NllLossBackward>)\n",
      "tensor(0.5437, device='cuda:0', grad_fn=<NllLossBackward>)\n",
      "tensor(0.5092, device='cuda:0', grad_fn=<NllLossBackward>)\n",
      "tensor(0.4266, device='cuda:0', grad_fn=<NllLossBackward>)\n",
      "tensor(0.3926, device='cuda:0', grad_fn=<NllLossBackward>)\n",
      "tensor(0.3052, device='cuda:0', grad_fn=<NllLossBackward>)\n",
      "tensor(0.2782, device='cuda:0', grad_fn=<NllLossBackward>)\n",
      "tensor(0.2291, device='cuda:0', grad_fn=<NllLossBackward>)\n",
      "tensor(0.1881, device='cuda:0', grad_fn=<NllLossBackward>)\n",
      "tensor(0.1607, device='cuda:0', grad_fn=<NllLossBackward>)\n",
      "tensor(0.1536, device='cuda:0', grad_fn=<NllLossBackward>)\n",
      "tensor(0.1314, device='cuda:0', grad_fn=<NllLossBackward>)\n",
      "tensor(0.1072, device='cuda:0', grad_fn=<NllLossBackward>)\n",
      "tensor(0.1179, device='cuda:0', grad_fn=<NllLossBackward>)\n",
      "tensor(0.0992, device='cuda:0', grad_fn=<NllLossBackward>)\n",
      "tensor(0.0897, device='cuda:0', grad_fn=<NllLossBackward>)\n",
      "tensor(0.0853, device='cuda:0', grad_fn=<NllLossBackward>)\n",
      "tensor(0.0697, device='cuda:0', grad_fn=<NllLossBackward>)\n",
      "tensor(0.0733, device='cuda:0', grad_fn=<NllLossBackward>)\n",
      "tensor(0.0619, device='cuda:0', grad_fn=<NllLossBackward>)\n",
      "tensor(0.0556, device='cuda:0', grad_fn=<NllLossBackward>)\n",
      "tensor(0.0806, device='cuda:0', grad_fn=<NllLossBackward>)\n",
      "tensor(0.0376, device='cuda:0', grad_fn=<NllLossBackward>)\n",
      "tensor(0.0382, device='cuda:0', grad_fn=<NllLossBackward>)\n",
      "tensor(0.0434, device='cuda:0', grad_fn=<NllLossBackward>)\n",
      "tensor(0.0519, device='cuda:0', grad_fn=<NllLossBackward>)\n",
      "tensor(0.0355, device='cuda:0', grad_fn=<NllLossBackward>)\n",
      "tensor(0.0412, device='cuda:0', grad_fn=<NllLossBackward>)\n",
      "tensor(0.0421, device='cuda:0', grad_fn=<NllLossBackward>)\n",
      "tensor(0.0213, device='cuda:0', grad_fn=<NllLossBackward>)\n",
      "tensor(0.0429, device='cuda:0', grad_fn=<NllLossBackward>)\n",
      "tensor(0.0337, device='cuda:0', grad_fn=<NllLossBackward>)\n",
      "tensor(0.0457, device='cuda:0', grad_fn=<NllLossBackward>)\n",
      "tensor(0.0304, device='cuda:0', grad_fn=<NllLossBackward>)\n",
      "tensor(0.0320, device='cuda:0', grad_fn=<NllLossBackward>)\n",
      "tensor(0.0408, device='cuda:0', grad_fn=<NllLossBackward>)\n",
      "tensor(0.0226, device='cuda:0', grad_fn=<NllLossBackward>)\n",
      "tensor(0.0333, device='cuda:0', grad_fn=<NllLossBackward>)\n",
      "tensor(0.0224, device='cuda:0', grad_fn=<NllLossBackward>)\n",
      "tensor(0.0318, device='cuda:0', grad_fn=<NllLossBackward>)\n",
      "tensor(0.0346, device='cuda:0', grad_fn=<NllLossBackward>)\n",
      "tensor(0.0239, device='cuda:0', grad_fn=<NllLossBackward>)\n",
      "tensor(0.0393, device='cuda:0', grad_fn=<NllLossBackward>)\n",
      "tensor(0.0305, device='cuda:0', grad_fn=<NllLossBackward>)\n",
      "tensor(0.0267, device='cuda:0', grad_fn=<NllLossBackward>)\n",
      "tensor(0.0231, device='cuda:0', grad_fn=<NllLossBackward>)\n",
      "tensor(0.0204, device='cuda:0', grad_fn=<NllLossBackward>)\n",
      "tensor(0.0299, device='cuda:0', grad_fn=<NllLossBackward>)\n",
      "tensor(0.0196, device='cuda:0', grad_fn=<NllLossBackward>)\n",
      "tensor(0.0243, device='cuda:0', grad_fn=<NllLossBackward>)\n",
      "tensor(0.0255, device='cuda:0', grad_fn=<NllLossBackward>)\n",
      "tensor(0.0279, device='cuda:0', grad_fn=<NllLossBackward>)\n",
      "tensor(0.0305, device='cuda:0', grad_fn=<NllLossBackward>)\n",
      "tensor(0.0274, device='cuda:0', grad_fn=<NllLossBackward>)\n",
      "tensor(0.0286, device='cuda:0', grad_fn=<NllLossBackward>)\n",
      "tensor(0.0482, device='cuda:0', grad_fn=<NllLossBackward>)\n",
      "tensor(0.0278, device='cuda:0', grad_fn=<NllLossBackward>)\n",
      "tensor(0.0167, device='cuda:0', grad_fn=<NllLossBackward>)\n",
      "tensor(0.0261, device='cuda:0', grad_fn=<NllLossBackward>)\n",
      "tensor(0.0292, device='cuda:0', grad_fn=<NllLossBackward>)\n",
      "tensor(0.0218, device='cuda:0', grad_fn=<NllLossBackward>)\n",
      "tensor(0.0274, device='cuda:0', grad_fn=<NllLossBackward>)\n",
      "tensor(0.0342, device='cuda:0', grad_fn=<NllLossBackward>)\n",
      "tensor(0.0400, device='cuda:0', grad_fn=<NllLossBackward>)\n",
      "tensor(0.0290, device='cuda:0', grad_fn=<NllLossBackward>)\n",
      "tensor(0.0424, device='cuda:0', grad_fn=<NllLossBackward>)\n",
      "tensor(0.0281, device='cuda:0', grad_fn=<NllLossBackward>)\n",
      "tensor(0.0318, device='cuda:0', grad_fn=<NllLossBackward>)\n",
      "tensor(0.0368, device='cuda:0', grad_fn=<NllLossBackward>)\n",
      "tensor(0.0352, device='cuda:0', grad_fn=<NllLossBackward>)\n",
      "tensor(0.0427, device='cuda:0', grad_fn=<NllLossBackward>)\n",
      "tensor(0.0285, device='cuda:0', grad_fn=<NllLossBackward>)\n",
      "tensor(0.0222, device='cuda:0', grad_fn=<NllLossBackward>)\n",
      "tensor(0.0222, device='cuda:0', grad_fn=<NllLossBackward>)\n",
      "tensor(0.0285, device='cuda:0', grad_fn=<NllLossBackward>)\n",
      "tensor(0.0222, device='cuda:0', grad_fn=<NllLossBackward>)\n",
      "tensor(0.0307, device='cuda:0', grad_fn=<NllLossBackward>)\n",
      "tensor(0.0319, device='cuda:0', grad_fn=<NllLossBackward>)\n",
      "tensor(0.0411, device='cuda:0', grad_fn=<NllLossBackward>)\n",
      "tensor(0.0340, device='cuda:0', grad_fn=<NllLossBackward>)\n",
      "tensor(0.0213, device='cuda:0', grad_fn=<NllLossBackward>)\n",
      "tensor(0.0201, device='cuda:0', grad_fn=<NllLossBackward>)\n",
      "tensor(0.0248, device='cuda:0', grad_fn=<NllLossBackward>)\n",
      "tensor(0.0187, device='cuda:0', grad_fn=<NllLossBackward>)\n",
      "tensor(0.0321, device='cuda:0', grad_fn=<NllLossBackward>)\n",
      "tensor(0.0286, device='cuda:0', grad_fn=<NllLossBackward>)\n",
      "tensor(0.0338, device='cuda:0', grad_fn=<NllLossBackward>)\n",
      "tensor(0.0211, device='cuda:0', grad_fn=<NllLossBackward>)\n",
      "tensor(0.0395, device='cuda:0', grad_fn=<NllLossBackward>)\n",
      "tensor(0.0210, device='cuda:0', grad_fn=<NllLossBackward>)\n",
      "Accuracy: 0.7960\n"
     ]
    }
   ],
   "source": [
    "metrics=trainAndTest()"
   ]
  },
  {
   "cell_type": "code",
   "execution_count": 15,
   "id": "108733c0",
   "metadata": {},
   "outputs": [
    {
     "data": {
      "text/plain": [
       "[<matplotlib.lines.Line2D at 0x25c873b2940>]"
      ]
     },
     "execution_count": 15,
     "metadata": {},
     "output_type": "execute_result"
    },
    {
     "data": {
      "image/png": "[encoded data removed]",
      "text/plain": [
       "<Figure size 432x288 with 1 Axes>"
      ]
     },
     "metadata": {
      "needs_background": "light"
     },
     "output_type": "display_data"
    }
   ],
   "source": [
    "plt.plot(metrics['losses'])"
   ]
  },
  {
   "cell_type": "code",
   "execution_count": null,
   "id": "ab4735b7",
   "metadata": {},
   "outputs": [],
   "source": []
  }
 ],
 "metadata": {
  "kernelspec": {
   "display_name": "Python 3 (ipykernel)",
   "language": "python",
   "name": "python3"
  },
  "language_info": {
   "codemirror_mode": {
    "name": "ipython",
    "version": 3
   },
   "file_extension": ".py",
   "mimetype": "text/x-python",
   "name": "python",
   "nbconvert_exporter": "python",
   "pygments_lexer": "ipython3",
   "version": "3.9.1"
  }
 },
 "nbformat": 4,
 "nbformat_minor": 5
}
