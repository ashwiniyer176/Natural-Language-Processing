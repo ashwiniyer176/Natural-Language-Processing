{
 "cells": [
  {
   "cell_type": "markdown",
   "metadata": {},
   "source": [
    "# Tokenization using spaCy\n",
    "\n",
    "We explore the basic process of tokenizing "
   ]
  },
  {
   "cell_type": "code",
   "execution_count": 1,
   "metadata": {},
   "outputs": [],
   "source": [
    "# Spacy Tokenization example\n",
    "import spacy\n",
    "from spacy.lang.en import English\n",
    "nlp = English()\n"
   ]
  },
  {
   "cell_type": "code",
   "execution_count": 2,
   "metadata": {},
   "outputs": [],
   "source": [
    "sample_text = \"Is this the real life? Is this just fantasy? Caught in a landslide, no escape from reality\""
   ]
  },
  {
   "cell_type": "code",
   "execution_count": 3,
   "metadata": {},
   "outputs": [
    {
     "name": "stdout",
     "output_type": "stream",
     "text": [
      "Is this the real life? Is this just fantasy? Caught in a landslide, no escape from reality\n"
     ]
    }
   ],
   "source": [
    "tokenizer = nlp.tokenizer\n",
    "\n",
    "tokens = tokenizer(sample_text)\n",
    "\n",
    "print(tokens)"
   ]
  },
  {
   "cell_type": "code",
   "execution_count": 7,
   "metadata": {},
   "outputs": [
    {
     "name": "stdout",
     "output_type": "stream",
     "text": [
      "Token \t\t Is Stopword\n",
      "Is \t\t True\n",
      "this \t\t True\n",
      "the \t\t True\n",
      "real \t\t False\n",
      "life \t\t False\n",
      "? \t\t False\n",
      "Is \t\t True\n",
      "this \t\t True\n",
      "just \t\t True\n",
      "fantasy \t\t False\n",
      "? \t\t False\n",
      "Caught \t\t False\n",
      "in \t\t True\n",
      "a \t\t True\n",
      "landslide \t\t False\n",
      ", \t\t False\n",
      "no \t\t True\n",
      "escape \t\t False\n",
      "from \t\t True\n",
      "reality \t\t False\n"
     ]
    }
   ],
   "source": [
    "print(\"Token \\t\\t Is Stopword\")\n",
    "for token in tokens:\n",
    "    print(token,\"\\t\\t\",token.is_stop)"
   ]
  },
  {
   "cell_type": "code",
   "execution_count": null,
   "metadata": {},
   "outputs": [],
   "source": []
  }
 ],
 "metadata": {
  "interpreter": {
   "hash": "c6129f50568a57fa84ae3d2a154839aaf8a7d207d60f5df1a1acd864dc47ffe3"
  },
  "kernelspec": {
   "display_name": "Python 3.9.0 64-bit ('NLP': conda)",
   "language": "python",
   "name": "python3"
  },
  "language_info": {
   "codemirror_mode": {
    "name": "ipython",
    "version": 3
   },
   "file_extension": ".py",
   "mimetype": "text/x-python",
   "name": "python",
   "nbconvert_exporter": "python",
   "pygments_lexer": "ipython3",
   "version": "3.9.0"
  },
  "orig_nbformat": 4
 },
 "nbformat": 4,
 "nbformat_minor": 2
}
