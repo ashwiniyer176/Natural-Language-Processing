{
 "cells": [
  {
   "cell_type": "markdown",
   "metadata": {},
   "source": [
    "## Writing my own Sherlock Holmes Story\n",
    "\n",
    "Since his inception in the brilliantly creative mind of Sir Arthur Conan Doyle, Sherlock Holmes is a character who has truly stood the test of time, having been written about, spoofed, played in shows and movies by multiple actors, each with their own take on him. SInce there hasn't been a new Sherlock Holmes story in a really long time, let us bring the fictional detective to life using Neural Networks, specifically, LSTMs"
   ]
  },
  {
   "cell_type": "code",
   "execution_count": 20,
   "metadata": {},
   "outputs": [],
   "source": [
    "import numpy as np\n",
    "import pandas as pd\n",
    "import matplotlib.pyplot as plt\n",
    "import seaborn as sns\n",
    "from keras.utils import np_utils\n",
    "import sys\n",
    "\n",
    "np.random.seed(30)\n",
    "%matplotlib inline"
   ]
  },
  {
   "cell_type": "code",
   "execution_count": 2,
   "metadata": {},
   "outputs": [
    {
     "name": "stdout",
     "output_type": "stream",
     "text": [
      "2.6.0\n",
      "[PhysicalDevice(name='/physical_device:CPU:0', device_type='CPU'), PhysicalDevice(name='/physical_device:GPU:0', device_type='GPU')]\n"
     ]
    }
   ],
   "source": [
    "import tensorflow as tf\n",
    "print(tf.__version__)\n",
    "print(tf.config.list_physical_devices())"
   ]
  },
  {
   "cell_type": "code",
   "execution_count": 3,
   "metadata": {},
   "outputs": [
    {
     "data": {
      "text/plain": [
       "'\\ufeffthe hound of the ba'"
      ]
     },
     "execution_count": 3,
     "metadata": {},
     "output_type": "execute_result"
    }
   ],
   "source": [
    "fileName=\"The Hound of The Baskervilles.txt\"\n",
    "rawText=open(fileName,'r',encoding='utf-8').read()\n",
    "rawText.lower()[:20]"
   ]
  },
  {
   "cell_type": "code",
   "execution_count": 4,
   "metadata": {},
   "outputs": [],
   "source": [
    "chars=sorted(list(set(rawText)))\n",
    "charToInt=dict((c,i) for i,c in enumerate(chars))"
   ]
  },
  {
   "cell_type": "code",
   "execution_count": 5,
   "metadata": {},
   "outputs": [
    {
     "name": "stdout",
     "output_type": "stream",
     "text": [
      "Total Characters: 318527 \n",
      "Total Vocab: 80\n"
     ]
    }
   ],
   "source": [
    "n_chars=len(rawText)\n",
    "n_vocab=len(chars)\n",
    "print(\"Total Characters:\",n_chars,\"\\nTotal Vocab:\",n_vocab)"
   ]
  },
  {
   "cell_type": "code",
   "execution_count": 6,
   "metadata": {},
   "outputs": [
    {
     "data": {
      "text/plain": [
       "{'\\n': 0,\n",
       " ' ': 1,\n",
       " '!': 2,\n",
       " '\"': 3,\n",
       " \"'\": 4,\n",
       " '(': 5,\n",
       " ')': 6,\n",
       " ',': 7,\n",
       " '-': 8,\n",
       " '.': 9,\n",
       " '0': 10,\n",
       " '1': 11,\n",
       " '2': 12,\n",
       " '3': 13,\n",
       " '4': 14,\n",
       " '5': 15,\n",
       " '6': 16,\n",
       " '7': 17,\n",
       " '8': 18,\n",
       " '9': 19,\n",
       " ':': 20,\n",
       " ';': 21,\n",
       " '?': 22,\n",
       " 'A': 23,\n",
       " 'B': 24,\n",
       " 'C': 25,\n",
       " 'D': 26,\n",
       " 'E': 27,\n",
       " 'F': 28,\n",
       " 'G': 29,\n",
       " 'H': 30,\n",
       " 'I': 31,\n",
       " 'J': 32,\n",
       " 'K': 33,\n",
       " 'L': 34,\n",
       " 'M': 35,\n",
       " 'N': 36,\n",
       " 'O': 37,\n",
       " 'P': 38,\n",
       " 'Q': 39,\n",
       " 'R': 40,\n",
       " 'S': 41,\n",
       " 'T': 42,\n",
       " 'U': 43,\n",
       " 'V': 44,\n",
       " 'W': 45,\n",
       " 'Y': 46,\n",
       " '[': 47,\n",
       " ']': 48,\n",
       " '_': 49,\n",
       " 'a': 50,\n",
       " 'b': 51,\n",
       " 'c': 52,\n",
       " 'd': 53,\n",
       " 'e': 54,\n",
       " 'f': 55,\n",
       " 'g': 56,\n",
       " 'h': 57,\n",
       " 'i': 58,\n",
       " 'j': 59,\n",
       " 'k': 60,\n",
       " 'l': 61,\n",
       " 'm': 62,\n",
       " 'n': 63,\n",
       " 'o': 64,\n",
       " 'p': 65,\n",
       " 'q': 66,\n",
       " 'r': 67,\n",
       " 's': 68,\n",
       " 't': 69,\n",
       " 'u': 70,\n",
       " 'v': 71,\n",
       " 'w': 72,\n",
       " 'x': 73,\n",
       " 'y': 74,\n",
       " 'z': 75,\n",
       " 'à': 76,\n",
       " 'é': 77,\n",
       " 'ê': 78,\n",
       " '\\ufeff': 79}"
      ]
     },
     "execution_count": 6,
     "metadata": {},
     "output_type": "execute_result"
    }
   ],
   "source": [
    "charToInt"
   ]
  },
  {
   "cell_type": "code",
   "execution_count": 7,
   "metadata": {},
   "outputs": [
    {
     "name": "stdout",
     "output_type": "stream",
     "text": [
      "Total Patterns: 318427\n"
     ]
    }
   ],
   "source": [
    "seqLength=100\n",
    "X=[]\n",
    "y=[]\n",
    "\n",
    "for i in range(0,n_chars-seqLength):\n",
    "    inSequence=rawText[i:i+seqLength]\n",
    "    outSequence=rawText[i+seqLength]\n",
    "    X.append([charToInt[c] for c in inSequence])\n",
    "    y.append([charToInt[outSequence]])\n",
    "\n",
    "n_patterns=len(X)\n",
    "print(\"Total Patterns:\",n_patterns)"
   ]
  },
  {
   "cell_type": "code",
   "execution_count": 8,
   "metadata": {},
   "outputs": [
    {
     "data": {
      "text/plain": [
       "([79,\n",
       "  42,\n",
       "  57,\n",
       "  54,\n",
       "  1,\n",
       "  30,\n",
       "  64,\n",
       "  70,\n",
       "  63,\n",
       "  53,\n",
       "  1,\n",
       "  64,\n",
       "  55,\n",
       "  1,\n",
       "  69,\n",
       "  57,\n",
       "  54,\n",
       "  1,\n",
       "  24,\n",
       "  50,\n",
       "  68,\n",
       "  60,\n",
       "  54,\n",
       "  67,\n",
       "  71,\n",
       "  58,\n",
       "  61,\n",
       "  61,\n",
       "  54,\n",
       "  68,\n",
       "  0,\n",
       "  0,\n",
       "  51,\n",
       "  74,\n",
       "  1,\n",
       "  41,\n",
       "  58,\n",
       "  67,\n",
       "  1,\n",
       "  23,\n",
       "  67,\n",
       "  69,\n",
       "  57,\n",
       "  70,\n",
       "  67,\n",
       "  1,\n",
       "  25,\n",
       "  64,\n",
       "  63,\n",
       "  50,\n",
       "  63,\n",
       "  1,\n",
       "  26,\n",
       "  64,\n",
       "  74,\n",
       "  61,\n",
       "  54,\n",
       "  0,\n",
       "  0,\n",
       "  1,\n",
       "  1,\n",
       "  25,\n",
       "  37,\n",
       "  36,\n",
       "  42,\n",
       "  27,\n",
       "  36,\n",
       "  42,\n",
       "  41,\n",
       "  0,\n",
       "  0,\n",
       "  1,\n",
       "  1,\n",
       "  25,\n",
       "  57,\n",
       "  50,\n",
       "  65,\n",
       "  69,\n",
       "  54,\n",
       "  67,\n",
       "  1,\n",
       "  11,\n",
       "  8,\n",
       "  8,\n",
       "  35,\n",
       "  67,\n",
       "  9,\n",
       "  1,\n",
       "  41,\n",
       "  57,\n",
       "  54,\n",
       "  67,\n",
       "  61,\n",
       "  64,\n",
       "  52,\n",
       "  60,\n",
       "  1,\n",
       "  30,\n",
       "  64,\n",
       "  61],\n",
       " [62])"
      ]
     },
     "execution_count": 8,
     "metadata": {},
     "output_type": "execute_result"
    }
   ],
   "source": [
    "X[0],y[0]"
   ]
  },
  {
   "cell_type": "code",
   "execution_count": 9,
   "metadata": {},
   "outputs": [],
   "source": [
    "# X needs to be reshaped to be [samples, time_steps, features]\n",
    "\n",
    "X=np.reshape(X,(n_patterns,seqLength,1))\n",
    "X=X/float(n_vocab)\n",
    "y=np_utils.to_categorical(y)"
   ]
  },
  {
   "cell_type": "code",
   "execution_count": 10,
   "metadata": {},
   "outputs": [
    {
     "data": {
      "text/plain": [
       "(array([[0.9875],\n",
       "        [0.525 ],\n",
       "        [0.7125],\n",
       "        [0.675 ],\n",
       "        [0.0125],\n",
       "        [0.375 ],\n",
       "        [0.8   ],\n",
       "        [0.875 ],\n",
       "        [0.7875],\n",
       "        [0.6625],\n",
       "        [0.0125],\n",
       "        [0.8   ],\n",
       "        [0.6875],\n",
       "        [0.0125],\n",
       "        [0.8625],\n",
       "        [0.7125],\n",
       "        [0.675 ],\n",
       "        [0.0125],\n",
       "        [0.3   ],\n",
       "        [0.625 ],\n",
       "        [0.85  ],\n",
       "        [0.75  ],\n",
       "        [0.675 ],\n",
       "        [0.8375],\n",
       "        [0.8875],\n",
       "        [0.725 ],\n",
       "        [0.7625],\n",
       "        [0.7625],\n",
       "        [0.675 ],\n",
       "        [0.85  ],\n",
       "        [0.    ],\n",
       "        [0.    ],\n",
       "        [0.6375],\n",
       "        [0.925 ],\n",
       "        [0.0125],\n",
       "        [0.5125],\n",
       "        [0.725 ],\n",
       "        [0.8375],\n",
       "        [0.0125],\n",
       "        [0.2875],\n",
       "        [0.8375],\n",
       "        [0.8625],\n",
       "        [0.7125],\n",
       "        [0.875 ],\n",
       "        [0.8375],\n",
       "        [0.0125],\n",
       "        [0.3125],\n",
       "        [0.8   ],\n",
       "        [0.7875],\n",
       "        [0.625 ],\n",
       "        [0.7875],\n",
       "        [0.0125],\n",
       "        [0.325 ],\n",
       "        [0.8   ],\n",
       "        [0.925 ],\n",
       "        [0.7625],\n",
       "        [0.675 ],\n",
       "        [0.    ],\n",
       "        [0.    ],\n",
       "        [0.0125],\n",
       "        [0.0125],\n",
       "        [0.3125],\n",
       "        [0.4625],\n",
       "        [0.45  ],\n",
       "        [0.525 ],\n",
       "        [0.3375],\n",
       "        [0.45  ],\n",
       "        [0.525 ],\n",
       "        [0.5125],\n",
       "        [0.    ],\n",
       "        [0.    ],\n",
       "        [0.0125],\n",
       "        [0.0125],\n",
       "        [0.3125],\n",
       "        [0.7125],\n",
       "        [0.625 ],\n",
       "        [0.8125],\n",
       "        [0.8625],\n",
       "        [0.675 ],\n",
       "        [0.8375],\n",
       "        [0.0125],\n",
       "        [0.1375],\n",
       "        [0.1   ],\n",
       "        [0.1   ],\n",
       "        [0.4375],\n",
       "        [0.8375],\n",
       "        [0.1125],\n",
       "        [0.0125],\n",
       "        [0.5125],\n",
       "        [0.7125],\n",
       "        [0.675 ],\n",
       "        [0.8375],\n",
       "        [0.7625],\n",
       "        [0.8   ],\n",
       "        [0.65  ],\n",
       "        [0.75  ],\n",
       "        [0.0125],\n",
       "        [0.375 ],\n",
       "        [0.8   ],\n",
       "        [0.7625]]),\n",
       " array([0., 0., 0., 0., 0., 0., 0., 0., 0., 0., 0., 0., 0., 0., 0., 0., 0.,\n",
       "        0., 0., 0., 0., 0., 0., 0., 0., 0., 0., 0., 0., 0., 0., 0., 0., 0.,\n",
       "        0., 0., 0., 0., 0., 0., 0., 0., 0., 0., 0., 0., 0., 0., 0., 0., 0.,\n",
       "        0., 0., 0., 0., 0., 0., 0., 0., 0., 0., 0., 1., 0., 0., 0., 0., 0.,\n",
       "        0., 0., 0., 0., 0., 0., 0., 0., 0., 0., 0.], dtype=float32))"
      ]
     },
     "execution_count": 10,
     "metadata": {},
     "output_type": "execute_result"
    }
   ],
   "source": [
    "X[0],y[0]"
   ]
  },
  {
   "cell_type": "code",
   "execution_count": 11,
   "metadata": {},
   "outputs": [],
   "source": [
    "from keras.callbacks import ModelCheckpoint\n",
    "from keras.models import Sequential\n",
    "from keras.layers import LSTM, Dropout, Dense"
   ]
  },
  {
   "cell_type": "code",
   "execution_count": 12,
   "metadata": {},
   "outputs": [],
   "source": [
    "filepath = \"./models/weights-improvement-{epoch:02d}-{loss:.4f}.hdf5\"\n",
    "checkpoint= ModelCheckpoint(\n",
    "    filepath, \n",
    "    monitor=\"val_loss\",\n",
    "    verbose=2,\n",
    "    save_best_only=True,\n",
    "    mode=\"min\")\n",
    "\n",
    "callbacksList=[checkpoint]"
   ]
  },
  {
   "cell_type": "code",
   "execution_count": 13,
   "metadata": {},
   "outputs": [],
   "source": [
    "model = Sequential()\n",
    "model.add(LSTM(256, input_shape=(X.shape[1], X.shape[2])))\n",
    "model.add(Dropout(0.2))\n",
    "model.add(Dense(y.shape[1], activation='softmax'))\n",
    "model.compile(loss='categorical_crossentropy',\n",
    "              optimizer='adam', metrics=['accuracy'])\n"
   ]
  },
  {
   "cell_type": "code",
   "execution_count": 14,
   "metadata": {},
   "outputs": [],
   "source": [
    "# model=tf.keras.models.load_model(\"./models/weights-improvement-20-2.1267.hdf5\")"
   ]
  },
  {
   "cell_type": "code",
   "execution_count": 15,
   "metadata": {},
   "outputs": [],
   "source": [
    "X_train,y_train=X[:250000],y[:250000]\n",
    "X_val,y_val=X[250000:],y[250000:]"
   ]
  },
  {
   "cell_type": "code",
   "execution_count": 16,
   "metadata": {},
   "outputs": [
    {
     "name": "stdout",
     "output_type": "stream",
     "text": [
      "Epoch 1/30\n",
      "1954/1954 [==============================] - 34s 15ms/step - loss: 2.9623 - accuracy: 0.1909 - val_loss: 2.8082 - val_accuracy: 0.2203\n",
      "\n",
      "Epoch 00001: val_loss improved from inf to 2.80816, saving model to ./models\\weights-improvement-01-2.9623.hdf5\n",
      "Epoch 2/30\n",
      "1954/1954 [==============================] - 29s 15ms/step - loss: 2.7911 - accuracy: 0.2194 - val_loss: 2.7320 - val_accuracy: 0.2298\n",
      "\n",
      "Epoch 00002: val_loss improved from 2.80816 to 2.73201, saving model to ./models\\weights-improvement-02-2.7911.hdf5\n",
      "Epoch 3/30\n",
      "1954/1954 [==============================] - 29s 15ms/step - loss: 2.7188 - accuracy: 0.2352 - val_loss: 2.6780 - val_accuracy: 0.2437\n",
      "\n",
      "Epoch 00003: val_loss improved from 2.73201 to 2.67805, saving model to ./models\\weights-improvement-03-2.7188.hdf5\n",
      "Epoch 4/30\n",
      "1954/1954 [==============================] - 29s 15ms/step - loss: 2.6656 - accuracy: 0.2482 - val_loss: 2.6371 - val_accuracy: 0.2520\n",
      "\n",
      "Epoch 00004: val_loss improved from 2.67805 to 2.63714, saving model to ./models\\weights-improvement-04-2.6656.hdf5\n",
      "Epoch 5/30\n",
      "1954/1954 [==============================] - 29s 15ms/step - loss: 2.6207 - accuracy: 0.2583 - val_loss: 2.6121 - val_accuracy: 0.2584\n",
      "\n",
      "Epoch 00005: val_loss improved from 2.63714 to 2.61212, saving model to ./models\\weights-improvement-05-2.6207.hdf5\n",
      "Epoch 6/30\n",
      "1954/1954 [==============================] - 29s 15ms/step - loss: 2.5842 - accuracy: 0.2659 - val_loss: 2.5751 - val_accuracy: 0.2682\n",
      "\n",
      "Epoch 00006: val_loss improved from 2.61212 to 2.57509, saving model to ./models\\weights-improvement-06-2.5842.hdf5\n",
      "Epoch 7/30\n",
      "1954/1954 [==============================] - 30s 15ms/step - loss: 2.5503 - accuracy: 0.2749 - val_loss: 2.5505 - val_accuracy: 0.2767\n",
      "\n",
      "Epoch 00007: val_loss improved from 2.57509 to 2.55050, saving model to ./models\\weights-improvement-07-2.5503.hdf5\n",
      "Epoch 8/30\n",
      "1954/1954 [==============================] - 30s 15ms/step - loss: 2.5199 - accuracy: 0.2824 - val_loss: 2.5257 - val_accuracy: 0.2851\n",
      "\n",
      "Epoch 00008: val_loss improved from 2.55050 to 2.52565, saving model to ./models\\weights-improvement-08-2.5199.hdf5\n",
      "Epoch 9/30\n",
      "1954/1954 [==============================] - 30s 15ms/step - loss: 2.4911 - accuracy: 0.2898 - val_loss: 2.5104 - val_accuracy: 0.2869\n",
      "\n",
      "Epoch 00009: val_loss improved from 2.52565 to 2.51042, saving model to ./models\\weights-improvement-09-2.4911.hdf5\n",
      "Epoch 10/30\n",
      "1954/1954 [==============================] - 30s 15ms/step - loss: 2.4649 - accuracy: 0.2963 - val_loss: 2.4916 - val_accuracy: 0.2921\n",
      "\n",
      "Epoch 00010: val_loss improved from 2.51042 to 2.49162, saving model to ./models\\weights-improvement-10-2.4649.hdf5\n",
      "Epoch 11/30\n",
      "1954/1954 [==============================] - 29s 15ms/step - loss: 2.4389 - accuracy: 0.3030 - val_loss: 2.4768 - val_accuracy: 0.2977\n",
      "\n",
      "Epoch 00011: val_loss improved from 2.49162 to 2.47675, saving model to ./models\\weights-improvement-11-2.4389.hdf5\n",
      "Epoch 12/30\n",
      "1954/1954 [==============================] - 30s 15ms/step - loss: 2.4154 - accuracy: 0.3087 - val_loss: 2.4592 - val_accuracy: 0.3009\n",
      "\n",
      "Epoch 00012: val_loss improved from 2.47675 to 2.45924, saving model to ./models\\weights-improvement-12-2.4154.hdf5\n",
      "Epoch 13/30\n",
      "1954/1954 [==============================] - 29s 15ms/step - loss: 2.3929 - accuracy: 0.3142 - val_loss: 2.4490 - val_accuracy: 0.3027\n",
      "\n",
      "Epoch 00013: val_loss improved from 2.45924 to 2.44898, saving model to ./models\\weights-improvement-13-2.3929.hdf5\n",
      "Epoch 14/30\n",
      "1954/1954 [==============================] - 29s 15ms/step - loss: 2.3700 - accuracy: 0.3200 - val_loss: 2.4404 - val_accuracy: 0.3062\n",
      "\n",
      "Epoch 00014: val_loss improved from 2.44898 to 2.44039, saving model to ./models\\weights-improvement-14-2.3700.hdf5\n",
      "Epoch 15/30\n",
      "1954/1954 [==============================] - 29s 15ms/step - loss: 2.3477 - accuracy: 0.3254 - val_loss: 2.4341 - val_accuracy: 0.3070\n",
      "\n",
      "Epoch 00015: val_loss improved from 2.44039 to 2.43411, saving model to ./models\\weights-improvement-15-2.3477.hdf5\n",
      "Epoch 16/30\n",
      "1954/1954 [==============================] - 29s 15ms/step - loss: 2.3276 - accuracy: 0.3301 - val_loss: 2.4287 - val_accuracy: 0.3091\n",
      "\n",
      "Epoch 00016: val_loss improved from 2.43411 to 2.42872, saving model to ./models\\weights-improvement-16-2.3276.hdf5\n",
      "Epoch 17/30\n",
      "1954/1954 [==============================] - 29s 15ms/step - loss: 2.3091 - accuracy: 0.3354 - val_loss: 2.4424 - val_accuracy: 0.3050\n",
      "\n",
      "Epoch 00017: val_loss did not improve from 2.42872\n",
      "Epoch 18/30\n",
      "1954/1954 [==============================] - 29s 15ms/step - loss: 2.2889 - accuracy: 0.3401 - val_loss: 2.4244 - val_accuracy: 0.3108\n",
      "\n",
      "Epoch 00018: val_loss improved from 2.42872 to 2.42441, saving model to ./models\\weights-improvement-18-2.2889.hdf5\n",
      "Epoch 19/30\n",
      "1954/1954 [==============================] - 29s 15ms/step - loss: 2.2720 - accuracy: 0.3436 - val_loss: 2.4207 - val_accuracy: 0.3119\n",
      "\n",
      "Epoch 00019: val_loss improved from 2.42441 to 2.42070, saving model to ./models\\weights-improvement-19-2.2720.hdf5\n",
      "Epoch 20/30\n",
      "1954/1954 [==============================] - 29s 15ms/step - loss: 2.2557 - accuracy: 0.3483 - val_loss: 2.4159 - val_accuracy: 0.3132\n",
      "\n",
      "Epoch 00020: val_loss improved from 2.42070 to 2.41589, saving model to ./models\\weights-improvement-20-2.2557.hdf5\n",
      "Epoch 21/30\n",
      "1954/1954 [==============================] - 29s 15ms/step - loss: 2.2399 - accuracy: 0.3524 - val_loss: 2.4201 - val_accuracy: 0.3132\n",
      "\n",
      "Epoch 00021: val_loss did not improve from 2.41589\n",
      "Epoch 22/30\n",
      "1954/1954 [==============================] - 29s 15ms/step - loss: 2.2246 - accuracy: 0.3564 - val_loss: 2.4292 - val_accuracy: 0.3101\n",
      "\n",
      "Epoch 00022: val_loss did not improve from 2.41589\n",
      "Epoch 23/30\n",
      "1954/1954 [==============================] - 29s 15ms/step - loss: 2.2144 - accuracy: 0.3595 - val_loss: 2.4209 - val_accuracy: 0.3131\n",
      "\n",
      "Epoch 00023: val_loss did not improve from 2.41589\n",
      "Epoch 24/30\n",
      "1954/1954 [==============================] - 30s 15ms/step - loss: 2.2023 - accuracy: 0.3617 - val_loss: 2.4270 - val_accuracy: 0.3111\n",
      "\n",
      "Epoch 00024: val_loss did not improve from 2.41589\n",
      "Epoch 25/30\n",
      "1954/1954 [==============================] - 30s 15ms/step - loss: 2.1873 - accuracy: 0.3665 - val_loss: 2.4236 - val_accuracy: 0.3108\n",
      "\n",
      "Epoch 00025: val_loss did not improve from 2.41589\n",
      "Epoch 26/30\n",
      "1954/1954 [==============================] - 30s 15ms/step - loss: 2.1733 - accuracy: 0.3694 - val_loss: 2.4286 - val_accuracy: 0.3125\n",
      "\n",
      "Epoch 00026: val_loss did not improve from 2.41589\n",
      "Epoch 27/30\n",
      "1954/1954 [==============================] - 30s 15ms/step - loss: 2.1706 - accuracy: 0.3707 - val_loss: 2.4380 - val_accuracy: 0.3111\n",
      "\n",
      "Epoch 00027: val_loss did not improve from 2.41589\n",
      "Epoch 28/30\n",
      "1954/1954 [==============================] - 30s 15ms/step - loss: 2.1891 - accuracy: 0.3651 - val_loss: 2.4315 - val_accuracy: 0.3104\n",
      "\n",
      "Epoch 00028: val_loss did not improve from 2.41589\n",
      "Epoch 29/30\n",
      "1954/1954 [==============================] - 29s 15ms/step - loss: 2.1603 - accuracy: 0.3726 - val_loss: 2.4520 - val_accuracy: 0.3087\n",
      "\n",
      "Epoch 00029: val_loss did not improve from 2.41589\n",
      "Epoch 30/30\n",
      "1954/1954 [==============================] - 29s 15ms/step - loss: 2.2742 - accuracy: 0.3439 - val_loss: 2.4277 - val_accuracy: 0.3104\n",
      "\n",
      "Epoch 00030: val_loss did not improve from 2.41589\n"
     ]
    }
   ],
   "source": [
    "history=model.fit(X_train,y_train,epochs=30,batch_size=128,validation_data=(X_val,y_val),callbacks=callbacksList)"
   ]
  },
  {
   "cell_type": "markdown",
   "metadata": {},
   "source": [
    "The network has already been trained for 40 epochs before this point of time, hence the remark that val_loss doesn't improve."
   ]
  },
  {
   "cell_type": "code",
   "execution_count": 17,
   "metadata": {},
   "outputs": [
    {
     "data": {
      "text/plain": [
       "Text(0, 0.5, 'Loss')"
      ]
     },
     "execution_count": 17,
     "metadata": {},
     "output_type": "execute_result"
    },
    {
     "data": {
      "image/png": "[encoded data removed]",
      "text/plain": [
       "<Figure size 432x288 with 1 Axes>"
      ]
     },
     "metadata": {
      "needs_background": "light"
     },
     "output_type": "display_data"
    }
   ],
   "source": [
    "plt.plot(history.history['loss'])\n",
    "plt.plot(history.history['val_loss'])\n",
    "plt.xlabel('Epoch')\n",
    "plt.ylabel('Loss')\n"
   ]
  },
  {
   "cell_type": "code",
   "execution_count": 18,
   "metadata": {},
   "outputs": [
    {
     "data": {
      "text/plain": [
       "Text(0, 0.5, 'Accuracy')"
      ]
     },
     "execution_count": 18,
     "metadata": {},
     "output_type": "execute_result"
    },
    {
     "data": {
      "image/png": "[encoded data removed]",
      "text/plain": [
       "<Figure size 432x288 with 1 Axes>"
      ]
     },
     "metadata": {
      "needs_background": "light"
     },
     "output_type": "display_data"
    }
   ],
   "source": [
    "plt.plot(history.history['accuracy'])\n",
    "plt.plot(history.history['val_accuracy'])\n",
    "plt.xlabel('Epoch')\n",
    "plt.ylabel('Accuracy')\n"
   ]
  },
  {
   "cell_type": "code",
   "execution_count": 68,
   "metadata": {},
   "outputs": [
    {
     "name": "stdout",
     "output_type": "stream",
     "text": [
      "Seed:\n",
      "/ ing, sir.\" His agitation was so great that he could hardly\n",
      "speak, and the shadows sprang up and down\n",
      " the sooe of the moor. Tee was aedin and see oateet  and the madd of the mant oa the mant of the moor. Tee was an the manter of the moor, and the hare was she aarente and see ane thet th had been and mested an the mant. \n",
      "\"I whs  sir,\" \n",
      "\"Yol moot that the was a ceatiet of the moor  and I have neter that he was a serini of the moor  and the hart was aelin the mast oe the moor  and the hart was soanenn and tee aarente and see hert aadk and aelir and aeanns  and the mas who was aor  and the wordd sae hool the sooe of the moor  and the hart oa the carene which had been to the moor. Tee was aedin and see oateet  and the madd of the mant oa the mant of the moor. Tee was an the manter of the moor, and the hare was she aarente and see ane thet th had been and mested an the mant. \n",
      "\"I whs  sir,\" \n",
      "\"Yol moot that the was a ceatiet of the moor  and I have neter that he was a serini of the moor  and the hart was aelin the mast oe the moor  and the hart was soanenn and tee aarente and see hert aadk an"
     ]
    }
   ],
   "source": [
    "np.random.seed(30)\n",
    "start =np.random.randint(0,len(X_train)-1)\n",
    "intToChar=dict((i,c) for i,c in enumerate(chars))\n",
    "pattern=list(X_train[start])\n",
    "print(\"Seed:\")\n",
    "print(\"/\",\"\".join([intToChar[int(value*n_vocab)] for value in pattern]))\n",
    "for i in range(1000):\n",
    "    x=np.reshape(pattern,(1,len(pattern),1))\n",
    "    prediction=model.predict(x,verbose=0)\n",
    "    index=np.argmax(prediction)\n",
    "    result=intToChar[index]\n",
    "    pattern.append([index/n_vocab])\n",
    "    print(result,end=\"\")"
   ]
  },
  {
   "cell_type": "code",
   "execution_count": null,
   "metadata": {},
   "outputs": [],
   "source": []
  },
  {
   "cell_type": "code",
   "execution_count": null,
   "metadata": {},
   "outputs": [],
   "source": []
  }
 ],
 "metadata": {
  "interpreter": {
   "hash": "f375280c252d8492f9929f545102be4436b56b7b9d809e2d50f7485678504f56"
  },
  "kernelspec": {
   "display_name": "Python 3.9.5 64-bit ('base': conda)",
   "language": "python",
   "name": "python3"
  },
  "language_info": {
   "codemirror_mode": {
    "name": "ipython",
    "version": 3
   },
   "file_extension": ".py",
   "mimetype": "text/x-python",
   "name": "python",
   "nbconvert_exporter": "python",
   "pygments_lexer": "ipython3",
   "version": "3.9.5"
  },
  "orig_nbformat": 4
 },
 "nbformat": 4,
 "nbformat_minor": 2
}
