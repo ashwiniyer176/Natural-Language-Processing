{
 "cells": [
  {
   "cell_type": "markdown",
   "metadata": {},
   "source": [
    "## Writing my own Sherlock Holmes Story\n",
    "\n",
    "Since his inception in the brilliantly creative mind of Sir Arthur Conan Doyle, Sherlock Holmes is a character who has truly stood the test of time, having been written about, spoofed, played in shows and movies by multiple actors, each with their own take on him. SInce there hasn't been a new Sherlock Holmes story in a really long time, let us bring the fictional detective to life using Neural Networks, specifically, LSTMs"
   ]
  },
  {
   "cell_type": "code",
   "execution_count": 1,
   "metadata": {},
   "outputs": [],
   "source": [
    "import numpy as np\n",
    "import pandas as pd\n",
    "import matplotlib.pyplot as plt\n",
    "import seaborn as sns\n",
    "from keras.utils import np_utils\n",
    "%matplotlib inline"
   ]
  },
  {
   "cell_type": "code",
   "execution_count": 2,
   "metadata": {},
   "outputs": [
    {
     "data": {
      "text/plain": [
       "'\\ufeffthe hound of the ba'"
      ]
     },
     "execution_count": 2,
     "metadata": {},
     "output_type": "execute_result"
    }
   ],
   "source": [
    "fileName=\"The Hound of The Baskervilles.txt\"\n",
    "rawText=open(fileName,'r',encoding='utf-8').read()\n",
    "rawText.lower()[:20]"
   ]
  },
  {
   "cell_type": "code",
   "execution_count": 3,
   "metadata": {},
   "outputs": [],
   "source": [
    "chars=sorted(list(set(rawText)))\n",
    "charToInt=dict((c,i) for i,c in enumerate(chars))"
   ]
  },
  {
   "cell_type": "code",
   "execution_count": 4,
   "metadata": {},
   "outputs": [
    {
     "name": "stdout",
     "output_type": "stream",
     "text": [
      "Total Characters: 318527 \n",
      "Total Vocab: 80\n"
     ]
    }
   ],
   "source": [
    "n_chars=len(rawText)\n",
    "n_vocab=len(chars)\n",
    "print(\"Total Characters:\",n_chars,\"\\nTotal Vocab:\",n_vocab)"
   ]
  },
  {
   "cell_type": "code",
   "execution_count": 5,
   "metadata": {},
   "outputs": [
    {
     "data": {
      "text/plain": [
       "{'\\n': 0,\n",
       " ' ': 1,\n",
       " '!': 2,\n",
       " '\"': 3,\n",
       " \"'\": 4,\n",
       " '(': 5,\n",
       " ')': 6,\n",
       " ',': 7,\n",
       " '-': 8,\n",
       " '.': 9,\n",
       " '0': 10,\n",
       " '1': 11,\n",
       " '2': 12,\n",
       " '3': 13,\n",
       " '4': 14,\n",
       " '5': 15,\n",
       " '6': 16,\n",
       " '7': 17,\n",
       " '8': 18,\n",
       " '9': 19,\n",
       " ':': 20,\n",
       " ';': 21,\n",
       " '?': 22,\n",
       " 'A': 23,\n",
       " 'B': 24,\n",
       " 'C': 25,\n",
       " 'D': 26,\n",
       " 'E': 27,\n",
       " 'F': 28,\n",
       " 'G': 29,\n",
       " 'H': 30,\n",
       " 'I': 31,\n",
       " 'J': 32,\n",
       " 'K': 33,\n",
       " 'L': 34,\n",
       " 'M': 35,\n",
       " 'N': 36,\n",
       " 'O': 37,\n",
       " 'P': 38,\n",
       " 'Q': 39,\n",
       " 'R': 40,\n",
       " 'S': 41,\n",
       " 'T': 42,\n",
       " 'U': 43,\n",
       " 'V': 44,\n",
       " 'W': 45,\n",
       " 'Y': 46,\n",
       " '[': 47,\n",
       " ']': 48,\n",
       " '_': 49,\n",
       " 'a': 50,\n",
       " 'b': 51,\n",
       " 'c': 52,\n",
       " 'd': 53,\n",
       " 'e': 54,\n",
       " 'f': 55,\n",
       " 'g': 56,\n",
       " 'h': 57,\n",
       " 'i': 58,\n",
       " 'j': 59,\n",
       " 'k': 60,\n",
       " 'l': 61,\n",
       " 'm': 62,\n",
       " 'n': 63,\n",
       " 'o': 64,\n",
       " 'p': 65,\n",
       " 'q': 66,\n",
       " 'r': 67,\n",
       " 's': 68,\n",
       " 't': 69,\n",
       " 'u': 70,\n",
       " 'v': 71,\n",
       " 'w': 72,\n",
       " 'x': 73,\n",
       " 'y': 74,\n",
       " 'z': 75,\n",
       " 'à': 76,\n",
       " 'é': 77,\n",
       " 'ê': 78,\n",
       " '\\ufeff': 79}"
      ]
     },
     "execution_count": 5,
     "metadata": {},
     "output_type": "execute_result"
    }
   ],
   "source": [
    "charToInt"
   ]
  },
  {
   "cell_type": "code",
   "execution_count": 6,
   "metadata": {},
   "outputs": [
    {
     "name": "stdout",
     "output_type": "stream",
     "text": [
      "Total Patterns: 318427\n"
     ]
    }
   ],
   "source": [
    "seqLength=100\n",
    "X=[]\n",
    "y=[]\n",
    "\n",
    "for i in range(0,n_chars-seqLength):\n",
    "    inSequence=rawText[i:i+seqLength]\n",
    "    outSequence=rawText[i+seqLength]\n",
    "    X.append([charToInt[c] for c in inSequence])\n",
    "    y.append([charToInt[outSequence]])\n",
    "\n",
    "n_patterns=len(X)\n",
    "print(\"Total Patterns:\",n_patterns)"
   ]
  },
  {
   "cell_type": "code",
   "execution_count": 7,
   "metadata": {},
   "outputs": [
    {
     "data": {
      "text/plain": [
       "([79,\n",
       "  42,\n",
       "  57,\n",
       "  54,\n",
       "  1,\n",
       "  30,\n",
       "  64,\n",
       "  70,\n",
       "  63,\n",
       "  53,\n",
       "  1,\n",
       "  64,\n",
       "  55,\n",
       "  1,\n",
       "  69,\n",
       "  57,\n",
       "  54,\n",
       "  1,\n",
       "  24,\n",
       "  50,\n",
       "  68,\n",
       "  60,\n",
       "  54,\n",
       "  67,\n",
       "  71,\n",
       "  58,\n",
       "  61,\n",
       "  61,\n",
       "  54,\n",
       "  68,\n",
       "  0,\n",
       "  0,\n",
       "  51,\n",
       "  74,\n",
       "  1,\n",
       "  41,\n",
       "  58,\n",
       "  67,\n",
       "  1,\n",
       "  23,\n",
       "  67,\n",
       "  69,\n",
       "  57,\n",
       "  70,\n",
       "  67,\n",
       "  1,\n",
       "  25,\n",
       "  64,\n",
       "  63,\n",
       "  50,\n",
       "  63,\n",
       "  1,\n",
       "  26,\n",
       "  64,\n",
       "  74,\n",
       "  61,\n",
       "  54,\n",
       "  0,\n",
       "  0,\n",
       "  1,\n",
       "  1,\n",
       "  25,\n",
       "  37,\n",
       "  36,\n",
       "  42,\n",
       "  27,\n",
       "  36,\n",
       "  42,\n",
       "  41,\n",
       "  0,\n",
       "  0,\n",
       "  1,\n",
       "  1,\n",
       "  25,\n",
       "  57,\n",
       "  50,\n",
       "  65,\n",
       "  69,\n",
       "  54,\n",
       "  67,\n",
       "  1,\n",
       "  11,\n",
       "  8,\n",
       "  8,\n",
       "  35,\n",
       "  67,\n",
       "  9,\n",
       "  1,\n",
       "  41,\n",
       "  57,\n",
       "  54,\n",
       "  67,\n",
       "  61,\n",
       "  64,\n",
       "  52,\n",
       "  60,\n",
       "  1,\n",
       "  30,\n",
       "  64,\n",
       "  61],\n",
       " [62])"
      ]
     },
     "execution_count": 7,
     "metadata": {},
     "output_type": "execute_result"
    }
   ],
   "source": [
    "X[0],y[0]"
   ]
  },
  {
   "cell_type": "code",
   "execution_count": 9,
   "metadata": {},
   "outputs": [],
   "source": [
    "# X needs to be reshaped to be [samples, time_steps, features]\n",
    "\n",
    "X=np.reshape(X,(n_patterns,seqLength,1))\n",
    "X=X/float(n_vocab)\n",
    "y=np_utils.to_categorical(y)"
   ]
  },
  {
   "cell_type": "code",
   "execution_count": 11,
   "metadata": {},
   "outputs": [
    {
     "data": {
      "text/plain": [
       "(array([[0.9875],\n",
       "        [0.525 ],\n",
       "        [0.7125],\n",
       "        [0.675 ],\n",
       "        [0.0125],\n",
       "        [0.375 ],\n",
       "        [0.8   ],\n",
       "        [0.875 ],\n",
       "        [0.7875],\n",
       "        [0.6625],\n",
       "        [0.0125],\n",
       "        [0.8   ],\n",
       "        [0.6875],\n",
       "        [0.0125],\n",
       "        [0.8625],\n",
       "        [0.7125],\n",
       "        [0.675 ],\n",
       "        [0.0125],\n",
       "        [0.3   ],\n",
       "        [0.625 ],\n",
       "        [0.85  ],\n",
       "        [0.75  ],\n",
       "        [0.675 ],\n",
       "        [0.8375],\n",
       "        [0.8875],\n",
       "        [0.725 ],\n",
       "        [0.7625],\n",
       "        [0.7625],\n",
       "        [0.675 ],\n",
       "        [0.85  ],\n",
       "        [0.    ],\n",
       "        [0.    ],\n",
       "        [0.6375],\n",
       "        [0.925 ],\n",
       "        [0.0125],\n",
       "        [0.5125],\n",
       "        [0.725 ],\n",
       "        [0.8375],\n",
       "        [0.0125],\n",
       "        [0.2875],\n",
       "        [0.8375],\n",
       "        [0.8625],\n",
       "        [0.7125],\n",
       "        [0.875 ],\n",
       "        [0.8375],\n",
       "        [0.0125],\n",
       "        [0.3125],\n",
       "        [0.8   ],\n",
       "        [0.7875],\n",
       "        [0.625 ],\n",
       "        [0.7875],\n",
       "        [0.0125],\n",
       "        [0.325 ],\n",
       "        [0.8   ],\n",
       "        [0.925 ],\n",
       "        [0.7625],\n",
       "        [0.675 ],\n",
       "        [0.    ],\n",
       "        [0.    ],\n",
       "        [0.0125],\n",
       "        [0.0125],\n",
       "        [0.3125],\n",
       "        [0.4625],\n",
       "        [0.45  ],\n",
       "        [0.525 ],\n",
       "        [0.3375],\n",
       "        [0.45  ],\n",
       "        [0.525 ],\n",
       "        [0.5125],\n",
       "        [0.    ],\n",
       "        [0.    ],\n",
       "        [0.0125],\n",
       "        [0.0125],\n",
       "        [0.3125],\n",
       "        [0.7125],\n",
       "        [0.625 ],\n",
       "        [0.8125],\n",
       "        [0.8625],\n",
       "        [0.675 ],\n",
       "        [0.8375],\n",
       "        [0.0125],\n",
       "        [0.1375],\n",
       "        [0.1   ],\n",
       "        [0.1   ],\n",
       "        [0.4375],\n",
       "        [0.8375],\n",
       "        [0.1125],\n",
       "        [0.0125],\n",
       "        [0.5125],\n",
       "        [0.7125],\n",
       "        [0.675 ],\n",
       "        [0.8375],\n",
       "        [0.7625],\n",
       "        [0.8   ],\n",
       "        [0.65  ],\n",
       "        [0.75  ],\n",
       "        [0.0125],\n",
       "        [0.375 ],\n",
       "        [0.8   ],\n",
       "        [0.7625]]),\n",
       " array([0., 0., 0., 0., 0., 0., 0., 0., 0., 0., 0., 0., 0., 0., 0., 0., 0.,\n",
       "        0., 0., 0., 0., 0., 0., 0., 0., 0., 0., 0., 0., 0., 0., 0., 0., 0.,\n",
       "        0., 0., 0., 0., 0., 0., 0., 0., 0., 0., 0., 0., 0., 0., 0., 0., 0.,\n",
       "        0., 0., 0., 0., 0., 0., 0., 0., 0., 0., 0., 1., 0., 0., 0., 0., 0.,\n",
       "        0., 0., 0., 0., 0., 0., 0., 0., 0., 0., 0.], dtype=float32))"
      ]
     },
     "execution_count": 11,
     "metadata": {},
     "output_type": "execute_result"
    }
   ],
   "source": [
    "X[0],y[0]"
   ]
  },
  {
   "cell_type": "code",
   "execution_count": null,
   "metadata": {},
   "outputs": [],
   "source": []
  }
 ],
 "metadata": {
  "interpreter": {
   "hash": "f375280c252d8492f9929f545102be4436b56b7b9d809e2d50f7485678504f56"
  },
  "kernelspec": {
   "display_name": "Python 3.9.5 64-bit ('base': conda)",
   "language": "python",
   "name": "python3"
  },
  "language_info": {
   "codemirror_mode": {
    "name": "ipython",
    "version": 3
   },
   "file_extension": ".py",
   "mimetype": "text/x-python",
   "name": "python",
   "nbconvert_exporter": "python",
   "pygments_lexer": "ipython3",
   "version": "3.9.5"
  },
  "orig_nbformat": 4
 },
 "nbformat": 4,
 "nbformat_minor": 2
}
