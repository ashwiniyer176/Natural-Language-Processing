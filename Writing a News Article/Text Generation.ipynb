{
 "cells": [
  {
   "cell_type": "markdown",
   "metadata": {},
   "source": [
    "## Writing my own News Article"
   ]
  },
  {
   "cell_type": "code",
   "execution_count": 1,
   "metadata": {},
   "outputs": [],
   "source": [
    "import numpy as np\n",
    "import pandas as pd\n",
    "import matplotlib.pyplot as plt\n",
    "import seaborn as sns\n",
    "from keras.utils import np_utils\n",
    "import sys\n",
    "\n",
    "np.random.seed(30)\n",
    "%matplotlib inline"
   ]
  },
  {
   "cell_type": "code",
   "execution_count": 2,
   "metadata": {},
   "outputs": [
    {
     "name": "stdout",
     "output_type": "stream",
     "text": [
      "2.6.0\n",
      "[PhysicalDevice(name='/physical_device:CPU:0', device_type='CPU'), PhysicalDevice(name='/physical_device:GPU:0', device_type='GPU')]\n"
     ]
    }
   ],
   "source": [
    "import tensorflow as tf\n",
    "print(tf.__version__)\n",
    "print(tf.config.list_physical_devices())"
   ]
  },
  {
   "cell_type": "code",
   "execution_count": 3,
   "metadata": {},
   "outputs": [],
   "source": [
    "df=pd.read_csv(\"BBC News Train.csv\",nrows=100)"
   ]
  },
  {
   "cell_type": "code",
   "execution_count": 4,
   "metadata": {},
   "outputs": [
    {
     "data": {
      "text/plain": [
       "ArticleId    19\n",
       "Text         19\n",
       "Category     19\n",
       "dtype: int64"
      ]
     },
     "execution_count": 4,
     "metadata": {},
     "output_type": "execute_result"
    }
   ],
   "source": [
    "df[df['Category']=='tech'].count()"
   ]
  },
  {
   "cell_type": "code",
   "execution_count": 5,
   "metadata": {},
   "outputs": [],
   "source": [
    "file=open(\"Tech_News.txt\",\"w\")"
   ]
  },
  {
   "cell_type": "code",
   "execution_count": 6,
   "metadata": {},
   "outputs": [],
   "source": [
    "for i in df['Text']:\n",
    "    file.write(i)\n",
    "file.close()"
   ]
  },
  {
   "cell_type": "code",
   "execution_count": 7,
   "metadata": {},
   "outputs": [
    {
     "data": {
      "text/plain": [
       "'worldcom ex-boss lau'"
      ]
     },
     "execution_count": 7,
     "metadata": {},
     "output_type": "execute_result"
    }
   ],
   "source": [
    "fileName=\"Tech_News.txt\"\n",
    "rawText=open(fileName,'r').read()\n",
    "rawText.lower()[:20]"
   ]
  },
  {
   "cell_type": "code",
   "execution_count": 8,
   "metadata": {},
   "outputs": [],
   "source": [
    "chars=sorted(list(set(rawText)))\n",
    "charToInt=dict((c,i) for i,c in enumerate(chars))"
   ]
  },
  {
   "cell_type": "code",
   "execution_count": 9,
   "metadata": {},
   "outputs": [
    {
     "name": "stdout",
     "output_type": "stream",
     "text": [
      "Total Characters: 215189 \n",
      "Total Vocab: 51\n"
     ]
    }
   ],
   "source": [
    "n_chars=len(rawText)\n",
    "n_vocab=len(chars)\n",
    "print(\"Total Characters:\",n_chars,\"\\nTotal Vocab:\",n_vocab)"
   ]
  },
  {
   "cell_type": "code",
   "execution_count": 10,
   "metadata": {},
   "outputs": [
    {
     "data": {
      "text/plain": [
       "{' ': 0,\n",
       " '!': 1,\n",
       " '$': 2,\n",
       " '%': 3,\n",
       " '&': 4,\n",
       " '(': 5,\n",
       " ')': 6,\n",
       " '-': 7,\n",
       " '.': 8,\n",
       " '/': 9,\n",
       " '0': 10,\n",
       " '1': 11,\n",
       " '2': 12,\n",
       " '3': 13,\n",
       " '4': 14,\n",
       " '5': 15,\n",
       " '6': 16,\n",
       " '7': 17,\n",
       " '8': 18,\n",
       " '9': 19,\n",
       " ':': 20,\n",
       " ';': 21,\n",
       " '[': 22,\n",
       " ']': 23,\n",
       " 'a': 24,\n",
       " 'b': 25,\n",
       " 'c': 26,\n",
       " 'd': 27,\n",
       " 'e': 28,\n",
       " 'f': 29,\n",
       " 'g': 30,\n",
       " 'h': 31,\n",
       " 'i': 32,\n",
       " 'j': 33,\n",
       " 'k': 34,\n",
       " 'l': 35,\n",
       " 'm': 36,\n",
       " 'n': 37,\n",
       " 'o': 38,\n",
       " 'p': 39,\n",
       " 'q': 40,\n",
       " 'r': 41,\n",
       " 's': 42,\n",
       " 't': 43,\n",
       " 'u': 44,\n",
       " 'v': 45,\n",
       " 'w': 46,\n",
       " 'x': 47,\n",
       " 'y': 48,\n",
       " 'z': 49,\n",
       " '£': 50}"
      ]
     },
     "execution_count": 10,
     "metadata": {},
     "output_type": "execute_result"
    }
   ],
   "source": [
    "charToInt"
   ]
  },
  {
   "cell_type": "code",
   "execution_count": 11,
   "metadata": {},
   "outputs": [
    {
     "name": "stdout",
     "output_type": "stream",
     "text": [
      "Total Patterns: 215089\n"
     ]
    }
   ],
   "source": [
    "seqLength=100\n",
    "X=[]\n",
    "y=[]\n",
    "\n",
    "for i in range(0,n_chars-seqLength):\n",
    "    inSequence=rawText[i:i+seqLength]\n",
    "    outSequence=rawText[i+seqLength]\n",
    "    X.append([charToInt[c] for c in inSequence])\n",
    "    y.append([charToInt[outSequence]])\n",
    "\n",
    "n_patterns=len(X)\n",
    "print(\"Total Patterns:\",n_patterns)"
   ]
  },
  {
   "cell_type": "code",
   "execution_count": 12,
   "metadata": {},
   "outputs": [
    {
     "data": {
      "text/plain": [
       "([46,\n",
       "  38,\n",
       "  41,\n",
       "  35,\n",
       "  27,\n",
       "  26,\n",
       "  38,\n",
       "  36,\n",
       "  0,\n",
       "  28,\n",
       "  47,\n",
       "  7,\n",
       "  25,\n",
       "  38,\n",
       "  42,\n",
       "  42,\n",
       "  0,\n",
       "  35,\n",
       "  24,\n",
       "  44,\n",
       "  37,\n",
       "  26,\n",
       "  31,\n",
       "  28,\n",
       "  42,\n",
       "  0,\n",
       "  27,\n",
       "  28,\n",
       "  29,\n",
       "  28,\n",
       "  37,\n",
       "  26,\n",
       "  28,\n",
       "  0,\n",
       "  35,\n",
       "  24,\n",
       "  46,\n",
       "  48,\n",
       "  28,\n",
       "  41,\n",
       "  42,\n",
       "  0,\n",
       "  27,\n",
       "  28,\n",
       "  29,\n",
       "  28,\n",
       "  37,\n",
       "  27,\n",
       "  32,\n",
       "  37,\n",
       "  30,\n",
       "  0,\n",
       "  29,\n",
       "  38,\n",
       "  41,\n",
       "  36,\n",
       "  28,\n",
       "  41,\n",
       "  0,\n",
       "  46,\n",
       "  38,\n",
       "  41,\n",
       "  35,\n",
       "  27,\n",
       "  26,\n",
       "  38,\n",
       "  36,\n",
       "  0,\n",
       "  26,\n",
       "  31,\n",
       "  32,\n",
       "  28,\n",
       "  29,\n",
       "  0,\n",
       "  25,\n",
       "  28,\n",
       "  41,\n",
       "  37,\n",
       "  32,\n",
       "  28,\n",
       "  0,\n",
       "  28,\n",
       "  25,\n",
       "  25,\n",
       "  28,\n",
       "  41,\n",
       "  42,\n",
       "  0,\n",
       "  24,\n",
       "  30,\n",
       "  24,\n",
       "  32,\n",
       "  37,\n",
       "  42,\n",
       "  43,\n",
       "  0,\n",
       "  24,\n",
       "  0,\n",
       "  25,\n",
       "  24],\n",
       " [43])"
      ]
     },
     "execution_count": 12,
     "metadata": {},
     "output_type": "execute_result"
    }
   ],
   "source": [
    "X[0],y[0]"
   ]
  },
  {
   "cell_type": "code",
   "execution_count": 13,
   "metadata": {},
   "outputs": [],
   "source": [
    "# X needs to be reshaped to be [samples, time_steps, features]\n",
    "\n",
    "X=np.reshape(X,(n_patterns,seqLength,1))\n",
    "X=X/float(n_vocab)\n",
    "y=np_utils.to_categorical(y)"
   ]
  },
  {
   "cell_type": "code",
   "execution_count": 14,
   "metadata": {},
   "outputs": [
    {
     "data": {
      "text/plain": [
       "(array([[0.90196078],\n",
       "        [0.74509804],\n",
       "        [0.80392157],\n",
       "        [0.68627451],\n",
       "        [0.52941176],\n",
       "        [0.50980392],\n",
       "        [0.74509804],\n",
       "        [0.70588235],\n",
       "        [0.        ],\n",
       "        [0.54901961],\n",
       "        [0.92156863],\n",
       "        [0.1372549 ],\n",
       "        [0.49019608],\n",
       "        [0.74509804],\n",
       "        [0.82352941],\n",
       "        [0.82352941],\n",
       "        [0.        ],\n",
       "        [0.68627451],\n",
       "        [0.47058824],\n",
       "        [0.8627451 ],\n",
       "        [0.7254902 ],\n",
       "        [0.50980392],\n",
       "        [0.60784314],\n",
       "        [0.54901961],\n",
       "        [0.82352941],\n",
       "        [0.        ],\n",
       "        [0.52941176],\n",
       "        [0.54901961],\n",
       "        [0.56862745],\n",
       "        [0.54901961],\n",
       "        [0.7254902 ],\n",
       "        [0.50980392],\n",
       "        [0.54901961],\n",
       "        [0.        ],\n",
       "        [0.68627451],\n",
       "        [0.47058824],\n",
       "        [0.90196078],\n",
       "        [0.94117647],\n",
       "        [0.54901961],\n",
       "        [0.80392157],\n",
       "        [0.82352941],\n",
       "        [0.        ],\n",
       "        [0.52941176],\n",
       "        [0.54901961],\n",
       "        [0.56862745],\n",
       "        [0.54901961],\n",
       "        [0.7254902 ],\n",
       "        [0.52941176],\n",
       "        [0.62745098],\n",
       "        [0.7254902 ],\n",
       "        [0.58823529],\n",
       "        [0.        ],\n",
       "        [0.56862745],\n",
       "        [0.74509804],\n",
       "        [0.80392157],\n",
       "        [0.70588235],\n",
       "        [0.54901961],\n",
       "        [0.80392157],\n",
       "        [0.        ],\n",
       "        [0.90196078],\n",
       "        [0.74509804],\n",
       "        [0.80392157],\n",
       "        [0.68627451],\n",
       "        [0.52941176],\n",
       "        [0.50980392],\n",
       "        [0.74509804],\n",
       "        [0.70588235],\n",
       "        [0.        ],\n",
       "        [0.50980392],\n",
       "        [0.60784314],\n",
       "        [0.62745098],\n",
       "        [0.54901961],\n",
       "        [0.56862745],\n",
       "        [0.        ],\n",
       "        [0.49019608],\n",
       "        [0.54901961],\n",
       "        [0.80392157],\n",
       "        [0.7254902 ],\n",
       "        [0.62745098],\n",
       "        [0.54901961],\n",
       "        [0.        ],\n",
       "        [0.54901961],\n",
       "        [0.49019608],\n",
       "        [0.49019608],\n",
       "        [0.54901961],\n",
       "        [0.80392157],\n",
       "        [0.82352941],\n",
       "        [0.        ],\n",
       "        [0.47058824],\n",
       "        [0.58823529],\n",
       "        [0.47058824],\n",
       "        [0.62745098],\n",
       "        [0.7254902 ],\n",
       "        [0.82352941],\n",
       "        [0.84313725],\n",
       "        [0.        ],\n",
       "        [0.47058824],\n",
       "        [0.        ],\n",
       "        [0.49019608],\n",
       "        [0.47058824]]),\n",
       " array([0., 0., 0., 0., 0., 0., 0., 0., 0., 0., 0., 0., 0., 0., 0., 0., 0.,\n",
       "        0., 0., 0., 0., 0., 0., 0., 0., 0., 0., 0., 0., 0., 0., 0., 0., 0.,\n",
       "        0., 0., 0., 0., 0., 0., 0., 0., 0., 1., 0., 0., 0., 0., 0., 0., 0.],\n",
       "       dtype=float32))"
      ]
     },
     "execution_count": 14,
     "metadata": {},
     "output_type": "execute_result"
    }
   ],
   "source": [
    "X[0],y[0]"
   ]
  },
  {
   "cell_type": "code",
   "execution_count": 15,
   "metadata": {},
   "outputs": [],
   "source": [
    "from keras.callbacks import ModelCheckpoint\n",
    "from keras.models import Sequential\n",
    "from keras.layers import LSTM, Dropout, Dense"
   ]
  },
  {
   "cell_type": "code",
   "execution_count": 16,
   "metadata": {},
   "outputs": [],
   "source": [
    "filepath = \"./models/weights-improvement-{epoch:02d}-{loss:.4f}.hdf5\"\n",
    "checkpoint= ModelCheckpoint(\n",
    "    filepath, \n",
    "    monitor=\"val_loss\",\n",
    "    verbose=2,\n",
    "    save_best_only=True,\n",
    "    mode=\"min\")\n",
    "\n",
    "callbacksList=[checkpoint]"
   ]
  },
  {
   "cell_type": "code",
   "execution_count": 17,
   "metadata": {},
   "outputs": [],
   "source": [
    "model = Sequential()\n",
    "model.add(LSTM(256, input_shape=(X.shape[1], X.shape[2])))\n",
    "model.add(Dropout(0.2))\n",
    "model.add(Dense(y.shape[1], activation='softmax'))\n",
    "model.compile(loss='categorical_crossentropy',\n",
    "              optimizer='adam', metrics=['accuracy'])\n"
   ]
  },
  {
   "cell_type": "code",
   "execution_count": 18,
   "metadata": {},
   "outputs": [],
   "source": [
    "# model=tf.keras.models.load_model(\"./models/weights-improvement-20-2.1267.hdf5\")"
   ]
  },
  {
   "cell_type": "code",
   "execution_count": 19,
   "metadata": {},
   "outputs": [],
   "source": [
    "X_train,y_train=X[:250000],y[:250000]\n",
    "X_val,y_val=X[250000:],y[250000:]"
   ]
  },
  {
   "cell_type": "code",
   "execution_count": 20,
   "metadata": {},
   "outputs": [
    {
     "name": "stdout",
     "output_type": "stream",
     "text": [
      "Epoch 1/30\n",
      "6722/6722 [==============================] - 53s 7ms/step - loss: 2.8193 - accuracy: 0.2089\n",
      "WARNING:tensorflow:Can save best model only with val_loss available, skipping.\n",
      "Epoch 2/30\n",
      "6722/6722 [==============================] - 50s 7ms/step - loss: 2.7053 - accuracy: 0.2317\n",
      "WARNING:tensorflow:Can save best model only with val_loss available, skipping.\n",
      "Epoch 3/30\n",
      "6722/6722 [==============================] - 50s 7ms/step - loss: 2.6489 - accuracy: 0.2403\n",
      "WARNING:tensorflow:Can save best model only with val_loss available, skipping.\n",
      "Epoch 4/30\n",
      "6722/6722 [==============================] - 49s 7ms/step - loss: 2.5993 - accuracy: 0.2513\n",
      "WARNING:tensorflow:Can save best model only with val_loss available, skipping.\n",
      "Epoch 5/30\n",
      "6722/6722 [==============================] - 49s 7ms/step - loss: 2.5528 - accuracy: 0.2629\n",
      "WARNING:tensorflow:Can save best model only with val_loss available, skipping.\n",
      "Epoch 6/30\n",
      "6722/6722 [==============================] - 49s 7ms/step - loss: 2.5050 - accuracy: 0.2748\n",
      "WARNING:tensorflow:Can save best model only with val_loss available, skipping.\n",
      "Epoch 7/30\n",
      "6722/6722 [==============================] - 49s 7ms/step - loss: 2.4605 - accuracy: 0.2870\n",
      "WARNING:tensorflow:Can save best model only with val_loss available, skipping.\n",
      "Epoch 8/30\n",
      "6722/6722 [==============================] - 49s 7ms/step - loss: 2.4151 - accuracy: 0.2978\n",
      "WARNING:tensorflow:Can save best model only with val_loss available, skipping.\n",
      "Epoch 9/30\n",
      "6722/6722 [==============================] - 49s 7ms/step - loss: 2.3754 - accuracy: 0.3101\n",
      "WARNING:tensorflow:Can save best model only with val_loss available, skipping.\n",
      "Epoch 10/30\n",
      "6722/6722 [==============================] - 49s 7ms/step - loss: 2.3362 - accuracy: 0.3217\n",
      "WARNING:tensorflow:Can save best model only with val_loss available, skipping.\n",
      "Epoch 11/30\n",
      "6722/6722 [==============================] - 49s 7ms/step - loss: 2.3025 - accuracy: 0.3309\n",
      "WARNING:tensorflow:Can save best model only with val_loss available, skipping.\n",
      "Epoch 12/30\n",
      "6722/6722 [==============================] - 49s 7ms/step - loss: 2.2690 - accuracy: 0.3399\n",
      "WARNING:tensorflow:Can save best model only with val_loss available, skipping.\n",
      "Epoch 13/30\n",
      "6722/6722 [==============================] - 49s 7ms/step - loss: 2.2399 - accuracy: 0.3481\n",
      "WARNING:tensorflow:Can save best model only with val_loss available, skipping.\n",
      "Epoch 14/30\n",
      "6722/6722 [==============================] - 49s 7ms/step - loss: 2.2117 - accuracy: 0.3558\n",
      "WARNING:tensorflow:Can save best model only with val_loss available, skipping.\n",
      "Epoch 15/30\n",
      "6722/6722 [==============================] - 49s 7ms/step - loss: 2.1854 - accuracy: 0.3631\n",
      "WARNING:tensorflow:Can save best model only with val_loss available, skipping.\n",
      "Epoch 16/30\n",
      "6722/6722 [==============================] - 48s 7ms/step - loss: 2.1622 - accuracy: 0.3690\n",
      "WARNING:tensorflow:Can save best model only with val_loss available, skipping.\n",
      "Epoch 17/30\n",
      "6722/6722 [==============================] - 48s 7ms/step - loss: 2.1384 - accuracy: 0.3760\n",
      "WARNING:tensorflow:Can save best model only with val_loss available, skipping.\n",
      "Epoch 18/30\n",
      "6722/6722 [==============================] - 48s 7ms/step - loss: 2.1214 - accuracy: 0.3808\n",
      "WARNING:tensorflow:Can save best model only with val_loss available, skipping.\n",
      "Epoch 19/30\n",
      "6722/6722 [==============================] - 49s 7ms/step - loss: 2.1020 - accuracy: 0.3853\n",
      "WARNING:tensorflow:Can save best model only with val_loss available, skipping.\n",
      "Epoch 20/30\n",
      "6722/6722 [==============================] - 50s 7ms/step - loss: 2.0836 - accuracy: 0.3902\n",
      "WARNING:tensorflow:Can save best model only with val_loss available, skipping.\n",
      "Epoch 21/30\n",
      "6722/6722 [==============================] - 49s 7ms/step - loss: 2.0697 - accuracy: 0.3945\n",
      "WARNING:tensorflow:Can save best model only with val_loss available, skipping.\n",
      "Epoch 22/30\n",
      "6722/6722 [==============================] - 48s 7ms/step - loss: 2.0581 - accuracy: 0.3981\n",
      "WARNING:tensorflow:Can save best model only with val_loss available, skipping.\n",
      "Epoch 23/30\n",
      "6722/6722 [==============================] - 47s 7ms/step - loss: 2.0418 - accuracy: 0.4021\n",
      "WARNING:tensorflow:Can save best model only with val_loss available, skipping.\n",
      "Epoch 24/30\n",
      "6722/6722 [==============================] - 48s 7ms/step - loss: 2.0300 - accuracy: 0.4048\n",
      "WARNING:tensorflow:Can save best model only with val_loss available, skipping.\n",
      "Epoch 25/30\n",
      "6722/6722 [==============================] - 49s 7ms/step - loss: 2.0191 - accuracy: 0.4074\n",
      "WARNING:tensorflow:Can save best model only with val_loss available, skipping.\n",
      "Epoch 26/30\n",
      "6722/6722 [==============================] - 51s 8ms/step - loss: 2.0058 - accuracy: 0.4109\n",
      "WARNING:tensorflow:Can save best model only with val_loss available, skipping.\n",
      "Epoch 27/30\n",
      "6722/6722 [==============================] - 50s 7ms/step - loss: 1.9948 - accuracy: 0.4147\n",
      "WARNING:tensorflow:Can save best model only with val_loss available, skipping.\n",
      "Epoch 28/30\n",
      "6722/6722 [==============================] - 48s 7ms/step - loss: 1.9839 - accuracy: 0.4172\n",
      "WARNING:tensorflow:Can save best model only with val_loss available, skipping.\n",
      "Epoch 29/30\n",
      "6722/6722 [==============================] - 49s 7ms/step - loss: 1.9754 - accuracy: 0.4186\n",
      "WARNING:tensorflow:Can save best model only with val_loss available, skipping.\n",
      "Epoch 30/30\n",
      "6722/6722 [==============================] - 49s 7ms/step - loss: 1.9621 - accuracy: 0.4234\n",
      "WARNING:tensorflow:Can save best model only with val_loss available, skipping.\n"
     ]
    }
   ],
   "source": [
    "history=model.fit(X_train,y_train,epochs=30,batch_size=32,validation_data=(X_val,y_val),callbacks=callbacksList)"
   ]
  },
  {
   "cell_type": "code",
   "execution_count": 22,
   "metadata": {},
   "outputs": [
    {
     "data": {
      "text/plain": [
       "Text(0.5, 1.0, 'Text Generation')"
      ]
     },
     "execution_count": 22,
     "metadata": {},
     "output_type": "execute_result"
    },
    {
     "data": {
      "image/png": "[encoded data removed]",
      "text/plain": [
       "<Figure size 432x288 with 1 Axes>"
      ]
     },
     "metadata": {
      "needs_background": "light"
     },
     "output_type": "display_data"
    }
   ],
   "source": [
    "plt.plot(history.history['loss'])\n",
    "plt.xlabel('Epoch')\n",
    "plt.ylabel('Loss')\n",
    "plt.title('Text Generation')"
   ]
  },
  {
   "cell_type": "code",
   "execution_count": null,
   "metadata": {},
   "outputs": [
    {
     "data": {
      "text/plain": [
       "Text(0, 0.5, 'Accuracy')"
      ]
     },
     "execution_count": 18,
     "metadata": {},
     "output_type": "execute_result"
    },
    {
     "data": {
      "image/png": "[encoded data removed]",
      "text/plain": [
       "<Figure size 432x288 with 1 Axes>"
      ]
     },
     "metadata": {
      "needs_background": "light"
     },
     "output_type": "display_data"
    }
   ],
   "source": [
    "plt.plot(history.history['accuracy'])\n",
    "plt.plot(history.history['val_accuracy'])\n",
    "plt.xlabel('Epoch')\n",
    "plt.ylabel('Accuracy')\n"
   ]
  },
  {
   "cell_type": "code",
   "execution_count": null,
   "metadata": {},
   "outputs": [
    {
     "name": "stdout",
     "output_type": "stream",
     "text": [
      "Seed:\n",
      "/ ing, sir.\" His agitation was so great that he could hardly\n",
      "speak, and the shadows sprang up and down\n",
      " the sooe of the moor. Tee was aedin and see oateet  and the madd of the mant oa the mant of the moor. Tee was an the manter of the moor, and the hare was she aarente and see ane thet th had been and mested an the mant. \n",
      "\"I whs  sir,\" \n",
      "\"Yol moot that the was a ceatiet of the moor  and I have neter that he was a serini of the moor  and the hart was aelin the mast oe the moor  and the hart was soanenn and tee aarente and see hert aadk and aelir and aeanns  and the mas who was aor  and the wordd sae hool the sooe of the moor  and the hart oa the carene which had been to the moor. Tee was aedin and see oateet  and the madd of the mant oa the mant of the moor. Tee was an the manter of the moor, and the hare was she aarente and see ane thet th had been and mested an the mant. \n",
      "\"I whs  sir,\" \n",
      "\"Yol moot that the was a ceatiet of the moor  and I have neter that he was a serini of the moor  and the hart was aelin the mast oe the moor  and the hart was soanenn and tee aarente and see hert aadk an"
     ]
    }
   ],
   "source": [
    "np.random.seed(30)\n",
    "start =np.random.randint(0,len(X_train)-1)\n",
    "intToChar=dict((i,c) for i,c in enumerate(chars))\n",
    "pattern=list(X_train[start])\n",
    "print(\"Seed:\")\n",
    "print(\"/\",\"\".join([intToChar[int(value*n_vocab)] for value in pattern]))\n",
    "for i in range(1000):\n",
    "    x=np.reshape(pattern,(1,len(pattern),1))\n",
    "    prediction=model.predict(x,verbose=0)\n",
    "    index=np.argmax(prediction)\n",
    "    result=intToChar[index]\n",
    "    pattern.append([index/n_vocab])\n",
    "    print(result,end=\"\")"
   ]
  },
  {
   "cell_type": "code",
   "execution_count": null,
   "metadata": {},
   "outputs": [],
   "source": []
  },
  {
   "cell_type": "code",
   "execution_count": null,
   "metadata": {},
   "outputs": [],
   "source": []
  }
 ],
 "metadata": {
  "interpreter": {
   "hash": "f375280c252d8492f9929f545102be4436b56b7b9d809e2d50f7485678504f56"
  },
  "kernelspec": {
   "display_name": "Python 3.9.5 64-bit ('base': conda)",
   "language": "python",
   "name": "python3"
  },
  "language_info": {
   "codemirror_mode": {
    "name": "ipython",
    "version": 3
   },
   "file_extension": ".py",
   "mimetype": "text/x-python",
   "name": "python",
   "nbconvert_exporter": "python",
   "pygments_lexer": "ipython3",
   "version": "3.9.5"
  },
  "orig_nbformat": 4
 },
 "nbformat": 4,
 "nbformat_minor": 2
}
